{
 "cells": [
  {
   "cell_type": "code",
   "metadata": {
    "cell_id": "99d919b9decd4f95a39289b36b84f3af",
    "tags": [],
    "deepnote_to_be_reexecuted": false,
    "source_hash": "9b82ee11",
    "execution_start": 1650481974189,
    "execution_millis": 45,
    "deepnote_cell_type": "code",
    "deepnote_cell_height": 81
   },
   "source": "import pandas as pd",
   "execution_count": 1,
   "outputs": []
  },
  {
   "cell_type": "code",
   "metadata": {
    "cell_id": "57ecb2842485444d8a29a594f031a8b3",
    "tags": [],
    "deepnote_to_be_reexecuted": false,
    "source_hash": "1edec5f6",
    "execution_start": 1650481974234,
    "execution_millis": 1,
    "deepnote_cell_type": "code",
    "deepnote_cell_height": 81
   },
   "source": "dataset = pd.read_csv('Boston.csv')",
   "execution_count": 2,
   "outputs": []
  },
  {
   "cell_type": "code",
   "metadata": {
    "cell_id": "c81a169428004118ab40e8257e810713",
    "tags": [],
    "deepnote_to_be_reexecuted": false,
    "source_hash": "bfd59522",
    "execution_start": 1650481974280,
    "execution_millis": 33,
    "deepnote_cell_type": "code",
    "deepnote_cell_height": 328
   },
   "source": "dataset.head(3)",
   "execution_count": 3,
   "outputs": [
    {
     "output_type": "execute_result",
     "execution_count": 3,
     "data": {
      "application/vnd.deepnote.dataframe.v3+json": {
       "column_count": 14,
       "row_count": 3,
       "columns": [
        {
         "name": "CRIM",
         "dtype": "float64",
         "stats": {
          "unique_count": 3,
          "nan_count": 0,
          "min": "0.00632",
          "max": "0.02731",
          "histogram": [
           {
            "bin_start": 0.00632,
            "bin_end": 0.008419,
            "count": 1
           },
           {
            "bin_start": 0.008419,
            "bin_end": 0.010518,
            "count": 0
           },
           {
            "bin_start": 0.010518,
            "bin_end": 0.012617,
            "count": 0
           },
           {
            "bin_start": 0.012617,
            "bin_end": 0.014716,
            "count": 0
           },
           {
            "bin_start": 0.014716,
            "bin_end": 0.016815,
            "count": 0
           },
           {
            "bin_start": 0.016815,
            "bin_end": 0.018914,
            "count": 0
           },
           {
            "bin_start": 0.018914,
            "bin_end": 0.021013,
            "count": 0
           },
           {
            "bin_start": 0.021013,
            "bin_end": 0.023112,
            "count": 0
           },
           {
            "bin_start": 0.023112,
            "bin_end": 0.025211,
            "count": 0
           },
           {
            "bin_start": 0.025211,
            "bin_end": 0.02731,
            "count": 2
           }
          ]
         }
        },
        {
         "name": "ZN",
         "dtype": "float64",
         "stats": {
          "unique_count": 2,
          "nan_count": 0,
          "min": "0.0",
          "max": "18.0",
          "histogram": [
           {
            "bin_start": 0,
            "bin_end": 1.8,
            "count": 2
           },
           {
            "bin_start": 1.8,
            "bin_end": 3.6,
            "count": 0
           },
           {
            "bin_start": 3.6,
            "bin_end": 5.4,
            "count": 0
           },
           {
            "bin_start": 5.4,
            "bin_end": 7.2,
            "count": 0
           },
           {
            "bin_start": 7.2,
            "bin_end": 9,
            "count": 0
           },
           {
            "bin_start": 9,
            "bin_end": 10.8,
            "count": 0
           },
           {
            "bin_start": 10.8,
            "bin_end": 12.6,
            "count": 0
           },
           {
            "bin_start": 12.6,
            "bin_end": 14.4,
            "count": 0
           },
           {
            "bin_start": 14.4,
            "bin_end": 16.2,
            "count": 0
           },
           {
            "bin_start": 16.2,
            "bin_end": 18,
            "count": 1
           }
          ]
         }
        },
        {
         "name": "INDUS",
         "dtype": "float64",
         "stats": {
          "unique_count": 2,
          "nan_count": 0,
          "min": "2.31",
          "max": "7.07",
          "histogram": [
           {
            "bin_start": 2.31,
            "bin_end": 2.786,
            "count": 1
           },
           {
            "bin_start": 2.786,
            "bin_end": 3.262,
            "count": 0
           },
           {
            "bin_start": 3.262,
            "bin_end": 3.738,
            "count": 0
           },
           {
            "bin_start": 3.738,
            "bin_end": 4.214,
            "count": 0
           },
           {
            "bin_start": 4.214,
            "bin_end": 4.6899999999999995,
            "count": 0
           },
           {
            "bin_start": 4.6899999999999995,
            "bin_end": 5.166,
            "count": 0
           },
           {
            "bin_start": 5.166,
            "bin_end": 5.6419999999999995,
            "count": 0
           },
           {
            "bin_start": 5.6419999999999995,
            "bin_end": 6.118,
            "count": 0
           },
           {
            "bin_start": 6.118,
            "bin_end": 6.593999999999999,
            "count": 0
           },
           {
            "bin_start": 6.593999999999999,
            "bin_end": 7.07,
            "count": 2
           }
          ]
         }
        },
        {
         "name": "CHAS",
         "dtype": "int64",
         "stats": {
          "unique_count": 1,
          "nan_count": 0,
          "min": "0",
          "max": "0",
          "histogram": [
           {
            "bin_start": -0.5,
            "bin_end": -0.4,
            "count": 0
           },
           {
            "bin_start": -0.4,
            "bin_end": -0.3,
            "count": 0
           },
           {
            "bin_start": -0.3,
            "bin_end": -0.19999999999999996,
            "count": 0
           },
           {
            "bin_start": -0.19999999999999996,
            "bin_end": -0.09999999999999998,
            "count": 0
           },
           {
            "bin_start": -0.09999999999999998,
            "bin_end": 0,
            "count": 0
           },
           {
            "bin_start": 0,
            "bin_end": 0.10000000000000009,
            "count": 3
           },
           {
            "bin_start": 0.10000000000000009,
            "bin_end": 0.20000000000000007,
            "count": 0
           },
           {
            "bin_start": 0.20000000000000007,
            "bin_end": 0.30000000000000004,
            "count": 0
           },
           {
            "bin_start": 0.30000000000000004,
            "bin_end": 0.4,
            "count": 0
           },
           {
            "bin_start": 0.4,
            "bin_end": 0.5,
            "count": 0
           }
          ]
         }
        },
        {
         "name": "NX",
         "dtype": "float64",
         "stats": {
          "unique_count": 2,
          "nan_count": 0,
          "min": "0.469",
          "max": "0.538",
          "histogram": [
           {
            "bin_start": 0.469,
            "bin_end": 0.4759,
            "count": 2
           },
           {
            "bin_start": 0.4759,
            "bin_end": 0.4828,
            "count": 0
           },
           {
            "bin_start": 0.4828,
            "bin_end": 0.48969999999999997,
            "count": 0
           },
           {
            "bin_start": 0.48969999999999997,
            "bin_end": 0.4966,
            "count": 0
           },
           {
            "bin_start": 0.4966,
            "bin_end": 0.5035000000000001,
            "count": 0
           },
           {
            "bin_start": 0.5035000000000001,
            "bin_end": 0.5104,
            "count": 0
           },
           {
            "bin_start": 0.5104,
            "bin_end": 0.5173,
            "count": 0
           },
           {
            "bin_start": 0.5173,
            "bin_end": 0.5242,
            "count": 0
           },
           {
            "bin_start": 0.5242,
            "bin_end": 0.5311,
            "count": 0
           },
           {
            "bin_start": 0.5311,
            "bin_end": 0.538,
            "count": 1
           }
          ]
         }
        },
        {
         "name": "RM",
         "dtype": "float64",
         "stats": {
          "unique_count": 3,
          "nan_count": 0,
          "min": "6.421",
          "max": "7.185",
          "histogram": [
           {
            "bin_start": 6.421,
            "bin_end": 6.4974,
            "count": 1
           },
           {
            "bin_start": 6.4974,
            "bin_end": 6.5738,
            "count": 0
           },
           {
            "bin_start": 6.5738,
            "bin_end": 6.6502,
            "count": 1
           },
           {
            "bin_start": 6.6502,
            "bin_end": 6.7266,
            "count": 0
           },
           {
            "bin_start": 6.7266,
            "bin_end": 6.803,
            "count": 0
           },
           {
            "bin_start": 6.803,
            "bin_end": 6.8793999999999995,
            "count": 0
           },
           {
            "bin_start": 6.8793999999999995,
            "bin_end": 6.9558,
            "count": 0
           },
           {
            "bin_start": 6.9558,
            "bin_end": 7.0322,
            "count": 0
           },
           {
            "bin_start": 7.0322,
            "bin_end": 7.1086,
            "count": 0
           },
           {
            "bin_start": 7.1086,
            "bin_end": 7.185,
            "count": 1
           }
          ]
         }
        },
        {
         "name": "AGE",
         "dtype": "float64",
         "stats": {
          "unique_count": 3,
          "nan_count": 0,
          "min": "61.1",
          "max": "78.9",
          "histogram": [
           {
            "bin_start": 61.1,
            "bin_end": 62.88,
            "count": 1
           },
           {
            "bin_start": 62.88,
            "bin_end": 64.66,
            "count": 0
           },
           {
            "bin_start": 64.66,
            "bin_end": 66.44,
            "count": 1
           },
           {
            "bin_start": 66.44,
            "bin_end": 68.22,
            "count": 0
           },
           {
            "bin_start": 68.22,
            "bin_end": 70,
            "count": 0
           },
           {
            "bin_start": 70,
            "bin_end": 71.78,
            "count": 0
           },
           {
            "bin_start": 71.78,
            "bin_end": 73.56,
            "count": 0
           },
           {
            "bin_start": 73.56,
            "bin_end": 75.34,
            "count": 0
           },
           {
            "bin_start": 75.34,
            "bin_end": 77.12,
            "count": 0
           },
           {
            "bin_start": 77.12,
            "bin_end": 78.9,
            "count": 1
           }
          ]
         }
        },
        {
         "name": "DIS",
         "dtype": "float64",
         "stats": {
          "unique_count": 2,
          "nan_count": 0,
          "min": "4.09",
          "max": "4.9671",
          "histogram": [
           {
            "bin_start": 4.09,
            "bin_end": 4.17771,
            "count": 1
           },
           {
            "bin_start": 4.17771,
            "bin_end": 4.26542,
            "count": 0
           },
           {
            "bin_start": 4.26542,
            "bin_end": 4.35313,
            "count": 0
           },
           {
            "bin_start": 4.35313,
            "bin_end": 4.44084,
            "count": 0
           },
           {
            "bin_start": 4.44084,
            "bin_end": 4.52855,
            "count": 0
           },
           {
            "bin_start": 4.52855,
            "bin_end": 4.6162600000000005,
            "count": 0
           },
           {
            "bin_start": 4.6162600000000005,
            "bin_end": 4.70397,
            "count": 0
           },
           {
            "bin_start": 4.70397,
            "bin_end": 4.79168,
            "count": 0
           },
           {
            "bin_start": 4.79168,
            "bin_end": 4.87939,
            "count": 0
           },
           {
            "bin_start": 4.87939,
            "bin_end": 4.9671,
            "count": 2
           }
          ]
         }
        },
        {
         "name": "RAD",
         "dtype": "int64",
         "stats": {
          "unique_count": 2,
          "nan_count": 0,
          "min": "1",
          "max": "2",
          "histogram": [
           {
            "bin_start": 1,
            "bin_end": 1.1,
            "count": 1
           },
           {
            "bin_start": 1.1,
            "bin_end": 1.2,
            "count": 0
           },
           {
            "bin_start": 1.2,
            "bin_end": 1.3,
            "count": 0
           },
           {
            "bin_start": 1.3,
            "bin_end": 1.4,
            "count": 0
           },
           {
            "bin_start": 1.4,
            "bin_end": 1.5,
            "count": 0
           },
           {
            "bin_start": 1.5,
            "bin_end": 1.6,
            "count": 0
           },
           {
            "bin_start": 1.6,
            "bin_end": 1.7000000000000002,
            "count": 0
           },
           {
            "bin_start": 1.7000000000000002,
            "bin_end": 1.8,
            "count": 0
           },
           {
            "bin_start": 1.8,
            "bin_end": 1.9,
            "count": 0
           },
           {
            "bin_start": 1.9,
            "bin_end": 2,
            "count": 2
           }
          ]
         }
        },
        {
         "name": "TAX",
         "dtype": "float64",
         "stats": {
          "unique_count": 2,
          "nan_count": 0,
          "min": "242.0",
          "max": "296.0",
          "histogram": [
           {
            "bin_start": 242,
            "bin_end": 247.4,
            "count": 2
           },
           {
            "bin_start": 247.4,
            "bin_end": 252.8,
            "count": 0
           },
           {
            "bin_start": 252.8,
            "bin_end": 258.2,
            "count": 0
           },
           {
            "bin_start": 258.2,
            "bin_end": 263.6,
            "count": 0
           },
           {
            "bin_start": 263.6,
            "bin_end": 269,
            "count": 0
           },
           {
            "bin_start": 269,
            "bin_end": 274.4,
            "count": 0
           },
           {
            "bin_start": 274.4,
            "bin_end": 279.8,
            "count": 0
           },
           {
            "bin_start": 279.8,
            "bin_end": 285.2,
            "count": 0
           },
           {
            "bin_start": 285.2,
            "bin_end": 290.6,
            "count": 0
           },
           {
            "bin_start": 290.6,
            "bin_end": 296,
            "count": 1
           }
          ]
         }
        },
        {
         "name": "PTRATIO",
         "dtype": "float64",
         "stats": {
          "unique_count": 2,
          "nan_count": 0,
          "min": "15.3",
          "max": "17.8",
          "histogram": [
           {
            "bin_start": 15.3,
            "bin_end": 15.55,
            "count": 1
           },
           {
            "bin_start": 15.55,
            "bin_end": 15.8,
            "count": 0
           },
           {
            "bin_start": 15.8,
            "bin_end": 16.05,
            "count": 0
           },
           {
            "bin_start": 16.05,
            "bin_end": 16.3,
            "count": 0
           },
           {
            "bin_start": 16.3,
            "bin_end": 16.55,
            "count": 0
           },
           {
            "bin_start": 16.55,
            "bin_end": 16.8,
            "count": 0
           },
           {
            "bin_start": 16.8,
            "bin_end": 17.05,
            "count": 0
           },
           {
            "bin_start": 17.05,
            "bin_end": 17.3,
            "count": 0
           },
           {
            "bin_start": 17.3,
            "bin_end": 17.55,
            "count": 0
           },
           {
            "bin_start": 17.55,
            "bin_end": 17.8,
            "count": 2
           }
          ]
         }
        },
        {
         "name": "B",
         "dtype": "float64",
         "stats": {
          "unique_count": 2,
          "nan_count": 0,
          "min": "392.83",
          "max": "396.9",
          "histogram": [
           {
            "bin_start": 392.83,
            "bin_end": 393.23699999999997,
            "count": 1
           },
           {
            "bin_start": 393.23699999999997,
            "bin_end": 393.644,
            "count": 0
           },
           {
            "bin_start": 393.644,
            "bin_end": 394.051,
            "count": 0
           },
           {
            "bin_start": 394.051,
            "bin_end": 394.45799999999997,
            "count": 0
           },
           {
            "bin_start": 394.45799999999997,
            "bin_end": 394.865,
            "count": 0
           },
           {
            "bin_start": 394.865,
            "bin_end": 395.272,
            "count": 0
           },
           {
            "bin_start": 395.272,
            "bin_end": 395.679,
            "count": 0
           },
           {
            "bin_start": 395.679,
            "bin_end": 396.08599999999996,
            "count": 0
           },
           {
            "bin_start": 396.08599999999996,
            "bin_end": 396.493,
            "count": 0
           },
           {
            "bin_start": 396.493,
            "bin_end": 396.9,
            "count": 2
           }
          ]
         }
        },
        {
         "name": "LSTAT",
         "dtype": "float64",
         "stats": {
          "unique_count": 3,
          "nan_count": 0,
          "min": "4.03",
          "max": "9.14",
          "histogram": [
           {
            "bin_start": 4.03,
            "bin_end": 4.541,
            "count": 1
           },
           {
            "bin_start": 4.541,
            "bin_end": 5.0520000000000005,
            "count": 1
           },
           {
            "bin_start": 5.0520000000000005,
            "bin_end": 5.563000000000001,
            "count": 0
           },
           {
            "bin_start": 5.563000000000001,
            "bin_end": 6.074,
            "count": 0
           },
           {
            "bin_start": 6.074,
            "bin_end": 6.585000000000001,
            "count": 0
           },
           {
            "bin_start": 6.585000000000001,
            "bin_end": 7.096,
            "count": 0
           },
           {
            "bin_start": 7.096,
            "bin_end": 7.607,
            "count": 0
           },
           {
            "bin_start": 7.607,
            "bin_end": 8.118,
            "count": 0
           },
           {
            "bin_start": 8.118,
            "bin_end": 8.629000000000001,
            "count": 0
           },
           {
            "bin_start": 8.629000000000001,
            "bin_end": 9.14,
            "count": 1
           }
          ]
         }
        },
        {
         "name": "MEDV",
         "dtype": "float64",
         "stats": {
          "unique_count": 3,
          "nan_count": 0,
          "min": "21.6",
          "max": "34.7",
          "histogram": [
           {
            "bin_start": 21.6,
            "bin_end": 22.91,
            "count": 1
           },
           {
            "bin_start": 22.91,
            "bin_end": 24.220000000000002,
            "count": 1
           },
           {
            "bin_start": 24.220000000000002,
            "bin_end": 25.53,
            "count": 0
           },
           {
            "bin_start": 25.53,
            "bin_end": 26.840000000000003,
            "count": 0
           },
           {
            "bin_start": 26.840000000000003,
            "bin_end": 28.150000000000002,
            "count": 0
           },
           {
            "bin_start": 28.150000000000002,
            "bin_end": 29.46,
            "count": 0
           },
           {
            "bin_start": 29.46,
            "bin_end": 30.770000000000003,
            "count": 0
           },
           {
            "bin_start": 30.770000000000003,
            "bin_end": 32.08,
            "count": 0
           },
           {
            "bin_start": 32.08,
            "bin_end": 33.39,
            "count": 0
           },
           {
            "bin_start": 33.39,
            "bin_end": 34.7,
            "count": 1
           }
          ]
         }
        },
        {
         "name": "_deepnote_index_column",
         "dtype": "int64"
        }
       ],
       "rows": [
        {
         "CRIM": 0.00632,
         "ZN": 18,
         "INDUS": 2.31,
         "CHAS": 0,
         "NX": 0.538,
         "RM": 6.575,
         "AGE": 65.2,
         "DIS": 4.09,
         "RAD": 1,
         "TAX": 296,
         "PTRATIO": 15.3,
         "B": 396.9,
         "LSTAT": 4.98,
         "MEDV": 24,
         "_deepnote_index_column": 0
        },
        {
         "CRIM": 0.02731,
         "ZN": 0,
         "INDUS": 7.07,
         "CHAS": 0,
         "NX": 0.469,
         "RM": 6.421,
         "AGE": 78.9,
         "DIS": 4.9671,
         "RAD": 2,
         "TAX": 242,
         "PTRATIO": 17.8,
         "B": 396.9,
         "LSTAT": 9.14,
         "MEDV": 21.6,
         "_deepnote_index_column": 1
        },
        {
         "CRIM": 0.02729,
         "ZN": 0,
         "INDUS": 7.07,
         "CHAS": 0,
         "NX": 0.469,
         "RM": 7.185,
         "AGE": 61.1,
         "DIS": 4.9671,
         "RAD": 2,
         "TAX": 242,
         "PTRATIO": 17.8,
         "B": 392.83,
         "LSTAT": 4.03,
         "MEDV": 34.7,
         "_deepnote_index_column": 2
        }
       ]
      },
      "text/plain": "      CRIM    ZN  INDUS  CHAS     NX     RM   AGE     DIS  RAD    TAX  \\\n0  0.00632  18.0   2.31     0  0.538  6.575  65.2  4.0900    1  296.0   \n1  0.02731   0.0   7.07     0  0.469  6.421  78.9  4.9671    2  242.0   \n2  0.02729   0.0   7.07     0  0.469  7.185  61.1  4.9671    2  242.0   \n\n   PTRATIO       B  LSTAT  MEDV  \n0     15.3  396.90   4.98  24.0  \n1     17.8  396.90   9.14  21.6  \n2     17.8  392.83   4.03  34.7  ",
      "text/html": "<div>\n<style scoped>\n    .dataframe tbody tr th:only-of-type {\n        vertical-align: middle;\n    }\n\n    .dataframe tbody tr th {\n        vertical-align: top;\n    }\n\n    .dataframe thead th {\n        text-align: right;\n    }\n</style>\n<table border=\"1\" class=\"dataframe\">\n  <thead>\n    <tr style=\"text-align: right;\">\n      <th></th>\n      <th>CRIM</th>\n      <th>ZN</th>\n      <th>INDUS</th>\n      <th>CHAS</th>\n      <th>NX</th>\n      <th>RM</th>\n      <th>AGE</th>\n      <th>DIS</th>\n      <th>RAD</th>\n      <th>TAX</th>\n      <th>PTRATIO</th>\n      <th>B</th>\n      <th>LSTAT</th>\n      <th>MEDV</th>\n    </tr>\n  </thead>\n  <tbody>\n    <tr>\n      <th>0</th>\n      <td>0.00632</td>\n      <td>18.0</td>\n      <td>2.31</td>\n      <td>0</td>\n      <td>0.538</td>\n      <td>6.575</td>\n      <td>65.2</td>\n      <td>4.0900</td>\n      <td>1</td>\n      <td>296.0</td>\n      <td>15.3</td>\n      <td>396.90</td>\n      <td>4.98</td>\n      <td>24.0</td>\n    </tr>\n    <tr>\n      <th>1</th>\n      <td>0.02731</td>\n      <td>0.0</td>\n      <td>7.07</td>\n      <td>0</td>\n      <td>0.469</td>\n      <td>6.421</td>\n      <td>78.9</td>\n      <td>4.9671</td>\n      <td>2</td>\n      <td>242.0</td>\n      <td>17.8</td>\n      <td>396.90</td>\n      <td>9.14</td>\n      <td>21.6</td>\n    </tr>\n    <tr>\n      <th>2</th>\n      <td>0.02729</td>\n      <td>0.0</td>\n      <td>7.07</td>\n      <td>0</td>\n      <td>0.469</td>\n      <td>7.185</td>\n      <td>61.1</td>\n      <td>4.9671</td>\n      <td>2</td>\n      <td>242.0</td>\n      <td>17.8</td>\n      <td>392.83</td>\n      <td>4.03</td>\n      <td>34.7</td>\n    </tr>\n  </tbody>\n</table>\n</div>"
     },
     "metadata": {}
    }
   ]
  },
  {
   "cell_type": "markdown",
   "source": "The documentation tells us the feature 'CRIM' is per capita crime rate, 'NX' is nitric oxides concentration, and 'RM' average number of rooms per dwelling, for example. The target variable, 'MEDV', is the median value of owner occupied homes in thousands of dollars.",
   "metadata": {
    "cell_id": "5b1ec737a9ca47c487a683820f6feb6b",
    "tags": [],
    "deepnote_cell_type": "markdown",
    "deepnote_cell_height": 97.1875
   }
  },
  {
   "cell_type": "code",
   "metadata": {
    "cell_id": "cb657057df5b4f0ab9775d4e3436a7b3",
    "tags": [],
    "deepnote_to_be_reexecuted": false,
    "source_hash": "30f0f919",
    "execution_start": 1650481974318,
    "execution_millis": 2796,
    "owner_user_id": "9941c54c-10f8-4195-95f5-5551d0623d7d",
    "deepnote_cell_type": "code",
    "deepnote_cell_height": 453.1875,
    "deepnote_output_heights": [
     21.1875,
     286
    ]
   },
   "source": "import seaborn as sns\nsns.heatmap(dataset.corr(),square=True,cmap='rocket')",
   "execution_count": 4,
   "outputs": [
    {
     "output_type": "execute_result",
     "execution_count": 4,
     "data": {
      "text/plain": "<AxesSubplot:>"
     },
     "metadata": {}
    },
    {
     "data": {
      "text/plain": "<Figure size 432x288 with 2 Axes>",
      "image/png": "[encoded data removed]"
     },
     "metadata": {
      "needs_background": "light",
      "image/png": {
       "width": 338,
       "height": 284
      }
     },
     "output_type": "display_data"
    }
   ]
  },
  {
   "cell_type": "code",
   "metadata": {
    "cell_id": "c31ce28b62de4d6fa64b2bd3b55b4312",
    "tags": [],
    "deepnote_to_be_reexecuted": false,
    "source_hash": "44b780bd",
    "execution_start": 1650481977164,
    "execution_millis": 1,
    "deepnote_cell_type": "code",
    "deepnote_cell_height": 81
   },
   "source": "dataset = dataset.drop('LSTAT',axis=1) # deletes column LSTAT",
   "execution_count": 5,
   "outputs": []
  },
  {
   "cell_type": "code",
   "metadata": {
    "cell_id": "34ca5900ca08404498bb6734c088225b",
    "tags": [],
    "deepnote_to_be_reexecuted": false,
    "source_hash": "113b353f",
    "execution_start": 1650481977165,
    "execution_millis": 401,
    "deepnote_cell_type": "code",
    "deepnote_cell_height": 383,
    "deepnote_output_heights": [
     286
    ]
   },
   "source": "sns.heatmap(dataset.corr(),square=True,cmap='rocket'); # visualizes correlation",
   "execution_count": 6,
   "outputs": [
    {
     "data": {
      "text/plain": "<Figure size 432x288 with 2 Axes>",
      "image/png": "[encoded data removed]"
     },
     "metadata": {
      "needs_background": "light",
      "image/png": {
       "width": 338,
       "height": 284
      }
     },
     "output_type": "display_data"
    }
   ]
  },
  {
   "cell_type": "code",
   "metadata": {
    "cell_id": "30ffd6439fc74d74857b2eaccd6bde16",
    "tags": [],
    "deepnote_to_be_reexecuted": false,
    "source_hash": "c310d4fe",
    "execution_start": 1650481977616,
    "execution_millis": 1,
    "deepnote_cell_type": "code",
    "deepnote_cell_height": 81
   },
   "source": "dataset = dataset.drop('PTRATIO',axis=1) # deletes column PTRATIO ",
   "execution_count": 7,
   "outputs": []
  },
  {
   "cell_type": "code",
   "metadata": {
    "cell_id": "3351cbe7c28948028876cab29465cba1",
    "tags": [],
    "deepnote_to_be_reexecuted": false,
    "source_hash": "113b353f",
    "execution_start": 1650481977618,
    "execution_millis": 425,
    "deepnote_cell_type": "code",
    "deepnote_cell_height": 373,
    "deepnote_output_heights": [
     276
    ]
   },
   "source": "sns.heatmap(dataset.corr(),square=True,cmap='rocket'); # visualizes correlations between columns",
   "execution_count": 8,
   "outputs": [
    {
     "data": {
      "text/plain": "<Figure size 432x288 with 2 Axes>",
      "image/png": "[encoded data removed]"
     },
     "metadata": {
      "needs_background": "light",
      "image/png": {
       "width": 329,
       "height": 274
      }
     },
     "output_type": "display_data"
    }
   ]
  },
  {
   "cell_type": "code",
   "metadata": {
    "cell_id": "6ad892b1ce754801816e718670e52cab",
    "tags": [],
    "deepnote_to_be_reexecuted": false,
    "source_hash": "9e5433e3",
    "execution_start": 1650481978100,
    "execution_millis": 1,
    "deepnote_cell_type": "code",
    "deepnote_cell_height": 99
   },
   "source": "X = dataset.iloc[:, :-1].values # makes all columns but last one independent variable X\ny = dataset.iloc[:, -1].values # makes the last column dependent variable y",
   "execution_count": 9,
   "outputs": []
  },
  {
   "cell_type": "code",
   "metadata": {
    "cell_id": "8e5d1a80d99c4067a89f56cda5ab9090",
    "tags": [],
    "deepnote_to_be_reexecuted": false,
    "source_hash": "90f3a161",
    "execution_start": 1650481978101,
    "execution_millis": 45,
    "deepnote_cell_type": "code",
    "deepnote_cell_height": 466.203125
   },
   "source": "dataset.info() # gets data types for all columns ",
   "execution_count": 10,
   "outputs": [
    {
     "name": "stdout",
     "text": "<class 'pandas.core.frame.DataFrame'>\nRangeIndex: 506 entries, 0 to 505\nData columns (total 12 columns):\n #   Column  Non-Null Count  Dtype  \n---  ------  --------------  -----  \n 0   CRIM    506 non-null    float64\n 1   ZN      506 non-null    float64\n 2   INDUS   506 non-null    float64\n 3   CHAS    506 non-null    int64  \n 4   NX      506 non-null    float64\n 5   RM      506 non-null    float64\n 6   AGE     506 non-null    float64\n 7   DIS     506 non-null    float64\n 8   RAD     506 non-null    int64  \n 9   TAX     506 non-null    float64\n 10  B       506 non-null    float64\n 11  MEDV    506 non-null    float64\ndtypes: float64(10), int64(2)\nmemory usage: 47.6 KB\n",
     "output_type": "stream"
    }
   ]
  },
  {
   "cell_type": "markdown",
   "source": "All Values in our Dataset are Numeric, therefore, we don't have to deal with Categorical Values. Otherwise, we would have to convert categorical values to numbers.",
   "metadata": {
    "cell_id": "19057f8d468d45e9b331b06b72c3a114",
    "tags": [],
    "deepnote_cell_type": "markdown",
    "deepnote_cell_height": 74.796875
   }
  },
  {
   "cell_type": "code",
   "metadata": {
    "cell_id": "8cb3c8291aa0422393f87f59816547ec",
    "tags": [],
    "deepnote_to_be_reexecuted": false,
    "source_hash": "b2a2a99a",
    "execution_start": 1650481978145,
    "execution_millis": 155,
    "deepnote_cell_type": "code",
    "deepnote_cell_height": 117
   },
   "source": "# splits all the data into training and testing sets\nfrom sklearn.model_selection import train_test_split\nX_train, X_test, y_train, y_test = train_test_split(X, y, test_size = 0.2, random_state = 0)",
   "execution_count": 11,
   "outputs": []
  },
  {
   "cell_type": "code",
   "metadata": {
    "cell_id": "e852b94a00c94dc38f698081f3138442",
    "tags": [],
    "deepnote_to_be_reexecuted": false,
    "source_hash": "e1c0b15",
    "execution_start": 1650481978357,
    "execution_millis": 3,
    "deepnote_cell_type": "code",
    "deepnote_cell_height": 708,
    "deepnote_output_heights": [
     611
    ]
   },
   "source": "X_train, X_test, y_train, y_test # prints training and testing sets for dependent and independent variables",
   "execution_count": 12,
   "outputs": [
    {
     "output_type": "execute_result",
     "execution_count": 12,
     "data": {
      "text/plain": "(array([[3.5809e-01, 0.0000e+00, 6.2000e+00, ..., 8.0000e+00, 3.0700e+02,\n         3.9170e+02],\n        [1.5876e-01, 0.0000e+00, 1.0810e+01, ..., 4.0000e+00, 3.0500e+02,\n         3.7694e+02],\n        [1.1329e-01, 3.0000e+01, 4.9300e+00, ..., 6.0000e+00, 3.0000e+02,\n         3.9125e+02],\n        ...,\n        [1.5098e-01, 0.0000e+00, 1.0010e+01, ..., 6.0000e+00, 4.3200e+02,\n         3.9451e+02],\n        [2.2927e-01, 0.0000e+00, 6.9100e+00, ..., 3.0000e+00, 2.3300e+02,\n         3.9274e+02],\n        [1.3914e-01, 0.0000e+00, 4.0500e+00, ..., 5.0000e+00, 2.9600e+02,\n         3.9690e+02]]),\n array([[6.7240e-02, 0.0000e+00, 3.2400e+00, ..., 4.0000e+00, 4.3000e+02,\n         3.7521e+02],\n        [9.2323e+00, 0.0000e+00, 1.8100e+01, ..., 2.4000e+01, 6.6600e+02,\n         3.6615e+02],\n        [1.1425e-01, 0.0000e+00, 1.3890e+01, ..., 5.0000e+00, 2.7600e+02,\n         3.9374e+02],\n        ...,\n        [1.4932e-01, 2.5000e+01, 5.1300e+00, ..., 8.0000e+00, 2.8400e+02,\n         3.9511e+02],\n        [1.4052e-01, 0.0000e+00, 1.0590e+01, ..., 4.0000e+00, 2.7700e+02,\n         3.8581e+02],\n        [1.2802e-01, 0.0000e+00, 8.5600e+00, ..., 5.0000e+00, 3.8400e+02,\n         3.9524e+02]]),\n array([26.7, 21.7, 22. , 22.9, 10.4, 21.9, 20.6, 26.4, 41.3, 17.2, 27.1,\n        20.4, 16.5, 24.4,  8.4, 23. ,  9.7, 50. , 30.5, 12.3, 19.4, 21.2,\n        20.3, 18.8, 33.4, 18.5, 19.6, 33.2, 13.1,  7.5, 13.6, 17.4,  8.4,\n        35.4, 24. , 13.4, 26.2,  7.2, 13.1, 24.5, 37.2, 25. , 24.1, 16.6,\n        32.9, 36.2, 11. ,  7.2, 22.8, 28.7, 14.4, 24.4, 18.1, 22.5, 20.5,\n        15.2, 17.4, 13.6,  8.7, 18.2, 35.4, 31.7, 33. , 22.2, 20.4, 23.9,\n        25. , 12.7, 29.1, 12. , 17.7, 27. , 20.6, 10.2, 17.5, 19.7, 29.8,\n        20.5, 14.9, 10.9, 19.5, 22.7, 19.5, 24.6, 25. , 24.5, 50. , 14.3,\n        11.8, 31. , 28.7, 16.2, 43.5, 25. , 22. , 19.9, 22.1, 46. , 22.9,\n        20.2, 43.1, 34.6, 13.8, 24.3, 21.5, 24.4, 21.2, 23.8, 26.6, 25.1,\n         9.6, 19.4, 19.4,  9.5, 14. , 26.5, 13.8, 34.7, 16.3, 21.7, 17.5,\n        15.6, 20.9, 21.7, 12.7, 18.5, 23.7, 19.3, 12.7, 21.6, 23.2, 29.6,\n        21.2, 23.8, 17.1, 22. , 36.5, 18.8, 21.9, 23.1, 20.2, 17.4, 37. ,\n        24.1, 36.2, 15.7, 32.2, 13.5, 17.9, 13.3, 11.7, 41.7, 18.4, 13.1,\n        25. , 21.2, 16. , 34.9, 25.2, 24.8, 21.5, 23.4, 18.9, 10.8, 21. ,\n        27.5, 17.5, 13.5, 28.7, 14.8, 19.1, 28.6, 13.1, 19. , 11.3, 13.3,\n        22.4, 20.1, 18.2, 22.9, 20.6, 25. , 12.8, 34.9, 23.7, 50. , 29. ,\n        30.1, 22. , 15.6, 23.3, 30.1, 14.3, 22.8, 50. , 20.8,  6.3, 34.9,\n        32.4, 19.9, 20.3, 17.8, 23.1, 20.4, 23.2,  7. , 16.8, 46.7, 50. ,\n        22.9, 23.9, 21.4, 21.7, 15.4, 15.3, 23.1, 23.9, 19.4, 11.9, 17.8,\n        31.5, 33.8, 20.8, 19.8, 22.4,  5. , 24.5, 19.4, 15.1, 18.2, 19.3,\n        27.1, 20.7, 37.6, 11.7, 33.4, 30.1, 21.4, 45.4, 20.1, 20.8, 26.4,\n        10.4, 21.8, 32. , 21.7, 18.4, 37.9, 17.8, 28. , 28.2, 36. , 18.9,\n        15. , 22.5, 30.7, 20. , 19.1, 23.3, 26.6, 21.1, 19.7, 20. , 12.1,\n         7.2, 14.2, 17.3, 27.5, 22.2, 10.9, 19.2, 32. , 14.5, 24.7, 12.6,\n        24. , 24.1, 50. , 16.1, 43.8, 26.6, 36.1, 21.8, 29.9, 50. , 44. ,\n        20.6, 19.6, 28.4, 19.1, 22.3, 20.9, 28.4, 14.4, 32.7, 13.8,  8.5,\n        22.5, 35.1, 31.6, 17.8, 15.6, 20.7, 39.8, 17.8, 19.6, 14.9, 22. ,\n        48.8, 25. , 48.5, 23.9, 20.3, 15.2, 10.5, 19. , 16.4,  8.8, 22. ,\n        24.8, 50. , 19.3, 22.7, 37.3, 31.6,  8.3, 23.1, 50. , 13.9, 16.1,\n        25.3, 19.5, 10.2, 19.9, 35.2, 13.4, 24.7, 11.5, 23.4, 16.7, 15.4,\n        18. , 28.5, 18.4, 32.5, 50. , 50. , 19.6, 17.6, 42.3, 14.5, 13.2,\n        16.2, 29.6, 16.7, 13. , 22.3, 13.4,  5. , 19.5, 14.6, 22. ,  8.1,\n        24.6, 33.2, 20.6, 14.1, 14.1, 21.1, 30.3, 23.7, 21.4, 18.3,  8.5,\n        22.8, 22.8, 22.2, 13.9, 25. , 18.5,  7. , 22.6, 20.1, 30.8, 31.1,\n        23.8, 12.5, 23.6, 23.2, 24.2, 22.2, 27.9, 22.2, 33.1, 19.3, 18.9,\n        22.6, 50. , 24.8, 18.5, 36.4, 19.2, 16.6, 23.1]),\n array([22.6, 50. , 23. ,  8.3, 21.2, 19.9, 20.6, 18.7, 16.1, 18.6,  8.8,\n        17.2, 14.9, 10.5, 50. , 29. , 23. , 33.3, 29.4, 21. , 23.8, 19.1,\n        20.4, 29.1, 19.3, 23.1, 19.6, 19.4, 38.7, 18.7, 14.6, 20. , 20.5,\n        20.1, 23.6, 16.8,  5.6, 50. , 14.5, 13.3, 23.9, 20. , 19.8, 13.8,\n        16.5, 21.6, 20.3, 17. , 11.8, 27.5, 15.6, 23.1, 24.3, 42.8, 15.6,\n        21.7, 17.1, 17.2, 15. , 21.7, 18.6, 21. , 33.1, 31.5, 20.1, 29.8,\n        15.2, 15. , 27.5, 22.6, 20. , 21.4, 23.5, 31.2, 23.7,  7.4, 48.3,\n        24.4, 22.6, 18.3, 23.3, 17.1, 27.9, 44.8, 50. , 23. , 21.4, 10.2,\n        23.3, 23.2, 18.9, 13.4, 21.9, 24.8, 11.9, 24.3, 13.8, 24.7, 14.1,\n        18.7, 28.1, 19.8]))"
     },
     "metadata": {}
    }
   ]
  },
  {
   "cell_type": "code",
   "metadata": {
    "cell_id": "5e6763748df64587ac8941d659774e57",
    "tags": [],
    "deepnote_to_be_reexecuted": false,
    "source_hash": "9527aab5",
    "execution_start": 1650481978358,
    "execution_millis": 53,
    "deepnote_cell_type": "code",
    "deepnote_cell_height": 81
   },
   "source": "from sklearn.linear_model import LinearRegression # imports model linear regression from library scikit learn ",
   "execution_count": 13,
   "outputs": []
  },
  {
   "cell_type": "code",
   "metadata": {
    "cell_id": "77becfab86a5411e81ba4e5f026f9c8f",
    "tags": [],
    "deepnote_to_be_reexecuted": false,
    "source_hash": "49f2d355",
    "execution_start": 1650481978411,
    "execution_millis": 0,
    "deepnote_cell_type": "code",
    "deepnote_cell_height": 81
   },
   "source": "reg=LinearRegression() # builds a linear regression model and assigns it to a variable reg",
   "execution_count": 14,
   "outputs": []
  },
  {
   "cell_type": "code",
   "metadata": {
    "cell_id": "619386390e644d2b8c498b3eaa84c9ff",
    "tags": [],
    "deepnote_to_be_reexecuted": false,
    "source_hash": "d18187b5",
    "execution_start": 1650481978412,
    "execution_millis": 9,
    "deepnote_cell_type": "code",
    "deepnote_cell_height": 118.1875,
    "deepnote_output_heights": [
     21.1875
    ]
   },
   "source": "reg.fit(X_train, y_train) # trains the model using X_train and y_train",
   "execution_count": 15,
   "outputs": [
    {
     "output_type": "execute_result",
     "execution_count": 15,
     "data": {
      "text/plain": "LinearRegression()"
     },
     "metadata": {}
    }
   ]
  },
  {
   "cell_type": "code",
   "metadata": {
    "cell_id": "0ee219ae591a4301b1a00252ec4b9b50",
    "tags": [],
    "deepnote_to_be_reexecuted": false,
    "source_hash": "d442cd75",
    "execution_start": 1650481978419,
    "execution_millis": 0,
    "deepnote_cell_type": "code",
    "deepnote_cell_height": 81
   },
   "source": "y_pred=reg.predict(X_test) # predicts y for the test set of X",
   "execution_count": 16,
   "outputs": []
  },
  {
   "cell_type": "code",
   "metadata": {
    "cell_id": "686f068b7d074244a5667bd8ac1fa91d",
    "tags": [],
    "deepnote_to_be_reexecuted": false,
    "source_hash": "af83b137",
    "execution_start": 1650481978424,
    "execution_millis": 1,
    "deepnote_cell_type": "code",
    "deepnote_cell_height": 118.1875,
    "deepnote_output_heights": [
     21.1875
    ]
   },
   "source": "reg.score(X_test,y_test) # calculates accuracy of prediction in percent",
   "execution_count": 17,
   "outputs": [
    {
     "output_type": "execute_result",
     "execution_count": 17,
     "data": {
      "text/plain": "0.48775880554518536"
     },
     "metadata": {}
    }
   ]
  },
  {
   "cell_type": "code",
   "metadata": {
    "cell_id": "c7556ec51783466ab03dd69b3fde9675",
    "tags": [],
    "deepnote_to_be_reexecuted": false,
    "source_hash": "380d2af7",
    "execution_start": 1650482519976,
    "execution_millis": 2,
    "deepnote_cell_type": "code",
    "deepnote_cell_height": 118.1875,
    "deepnote_output_heights": [
     21.1875
    ]
   },
   "source": "reg.predict([[0.02729,0,7.07,0,0.469,8,62,5,2,242,392]]) # predicting the price for a house with certain parameters",
   "execution_count": 21,
   "outputs": [
    {
     "output_type": "execute_result",
     "execution_count": 18,
     "data": {
      "text/plain": "array([34.56087269])"
     },
     "metadata": {}
    }
   ]
  },
  {
   "cell_type": "markdown",
   "source": "<a style='text-decoration:none;line-height:16px;display:flex;color:#5B5B62;padding:10px;justify-content:end;' href='https://deepnote.com?utm_source=created-in-deepnote-cell&projectId=7ec9a7ff-7b00-4ee1-970e-28184487caef' target=\"_blank\">\n<img alt='Created in deepnote.com' style='display:inline;max-height:16px;margin:0px;margin-right:7.5px;' src='data:image/svg+xml;base64,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' > </img>\nCreated in <span style='font-weight:600;margin-left:4px;'>Deepnote</span></a>",
   "metadata": {
    "tags": [],
    "created_in_deepnote_cell": true,
    "deepnote_cell_type": "markdown"
   }
  }
 ],
 "nbformat": 4,
 "nbformat_minor": 2,
 "metadata": {
  "orig_nbformat": 2,
  "deepnote": {},
  "deepnote_notebook_id": "524e42b4-73a9-45ec-a81a-e1512c8fef62",
  "deepnote_execution_queue": []
 }
}